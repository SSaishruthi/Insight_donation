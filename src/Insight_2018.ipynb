{
 "cells": [
  {
   "cell_type": "code",
   "execution_count": 1,
   "metadata": {
    "collapsed": true
   },
   "outputs": [],
   "source": [
    "import pandas as pd\n",
    "import numpy as np\n",
    "import re\n",
    "import csv\n",
    "import os\n",
    "import datetime\n",
    "import re\n",
    "from decimal import Decimal"
   ]
  },
  {
   "cell_type": "code",
   "execution_count": 2,
   "metadata": {},
   "outputs": [],
   "source": [
    "#Input File read and create dataframe using the input\n",
    "with open(\"C://Users//saish//Documents//insight//itcont.txt\",\"r\") as data:\n",
    "    df = pd.DataFrame(l.rsplit(\"|\") for l in data)"
   ]
  },
  {
   "cell_type": "code",
   "execution_count": 3,
   "metadata": {
    "collapsed": true
   },
   "outputs": [],
   "source": [
    "#Renaming necessary columns\n",
    "df.rename(columns={df.columns[0]: 'CMTE', df.columns[7]: 'NAME', df.columns[10]: 'ZIP',  \n",
    "                   df.columns[13]: 'DATE', df.columns[14]: 'AMT', df.columns[15]:'OTHER'},inplace=True)"
   ]
  },
  {
   "cell_type": "code",
   "execution_count": 4,
   "metadata": {},
   "outputs": [
    {
     "data": {
      "text/html": [
       "<div>\n",
       "<style>\n",
       "    .dataframe thead tr:only-child th {\n",
       "        text-align: right;\n",
       "    }\n",
       "\n",
       "    .dataframe thead th {\n",
       "        text-align: left;\n",
       "    }\n",
       "\n",
       "    .dataframe tbody tr th {\n",
       "        vertical-align: top;\n",
       "    }\n",
       "</style>\n",
       "<table border=\"1\" class=\"dataframe\">\n",
       "  <thead>\n",
       "    <tr style=\"text-align: right;\">\n",
       "      <th></th>\n",
       "      <th>CMTE</th>\n",
       "      <th>NAME</th>\n",
       "      <th>ZIP</th>\n",
       "      <th>DATE</th>\n",
       "      <th>AMT</th>\n",
       "      <th>OTHER</th>\n",
       "    </tr>\n",
       "  </thead>\n",
       "  <tbody>\n",
       "    <tr>\n",
       "      <th>0</th>\n",
       "      <td>C00629618</td>\n",
       "      <td>PEREZ, JOHN A</td>\n",
       "      <td>90017</td>\n",
       "      <td>01032017</td>\n",
       "      <td>40</td>\n",
       "      <td>H6CA34245</td>\n",
       "    </tr>\n",
       "    <tr>\n",
       "      <th>1</th>\n",
       "      <td>C00177436</td>\n",
       "      <td>DEEHAN, WILLIAM N</td>\n",
       "      <td>300047357</td>\n",
       "      <td>01312017</td>\n",
       "      <td>384</td>\n",
       "      <td></td>\n",
       "    </tr>\n",
       "    <tr>\n",
       "      <th>2</th>\n",
       "      <td>C00384818</td>\n",
       "      <td>ABBOTT, JOSEPH</td>\n",
       "      <td>028956146</td>\n",
       "      <td>01122017</td>\n",
       "      <td>250</td>\n",
       "      <td></td>\n",
       "    </tr>\n",
       "    <tr>\n",
       "      <th>3</th>\n",
       "      <td>C00384516</td>\n",
       "      <td>SABOURIN, JAMES</td>\n",
       "      <td>028956146</td>\n",
       "      <td>01312017</td>\n",
       "      <td>230</td>\n",
       "      <td></td>\n",
       "    </tr>\n",
       "    <tr>\n",
       "      <th>4</th>\n",
       "      <td>C00177436</td>\n",
       "      <td>JEROME, CHRISTOPHER</td>\n",
       "      <td>307502818</td>\n",
       "      <td>10312017</td>\n",
       "      <td>384</td>\n",
       "      <td></td>\n",
       "    </tr>\n",
       "  </tbody>\n",
       "</table>\n",
       "</div>"
      ],
      "text/plain": [
       "        CMTE                 NAME        ZIP      DATE  AMT      OTHER\n",
       "0  C00629618        PEREZ, JOHN A      90017  01032017   40  H6CA34245\n",
       "1  C00177436    DEEHAN, WILLIAM N  300047357  01312017  384           \n",
       "2  C00384818       ABBOTT, JOSEPH  028956146  01122017  250           \n",
       "3  C00384516      SABOURIN, JAMES  028956146  01312017  230           \n",
       "4  C00177436  JEROME, CHRISTOPHER  307502818  10312017  384           "
      ]
     },
     "execution_count": 4,
     "metadata": {},
     "output_type": "execute_result"
    }
   ],
   "source": [
    "#Selecting only necessary columns for processing\n",
    "df_in = df[['CMTE', 'NAME', 'ZIP', 'DATE', 'AMT', 'OTHER' ]].copy()\n",
    "df_in.head()"
   ]
  },
  {
   "cell_type": "markdown",
   "metadata": {},
   "source": [
    "# Input Consideration"
   ]
  },
  {
   "cell_type": "code",
   "execution_count": 5,
   "metadata": {
    "collapsed": true
   },
   "outputs": [],
   "source": [
    "#Converting data frame to numpy array\n",
    "inp_ar = df_in.as_matrix()"
   ]
  },
  {
   "cell_type": "code",
   "execution_count": 6,
   "metadata": {
    "collapsed": true
   },
   "outputs": [],
   "source": [
    "def zip_code(in_arr):\n",
    "    \n",
    "    \"\"\"\n",
    "    This function performs zip_code evaluation.\n",
    "    1. Get only first five digits from zip_code field\n",
    "    2. Store index of data points whose zip has length less than 5 or not having any value \n",
    "    3. Delete data points corresponding to the indexes\n",
    "    \"\"\"\n",
    "\n",
    "    for i in range (len(in_arr)):\n",
    "        in_arr[i][2] = (in_arr[i][2][0:5])\n",
    "    \n",
    "    index = []\n",
    "    for i in range(len(in_arr)):\n",
    "        if (len(in_arr[i][2]) < 5) or in_arr[i][2] == '' :\n",
    "            index.append(i)\n",
    "    \n",
    "    \n",
    "    in_arr1 = np.delete(in_arr, index, axis=0)\n",
    "        \n",
    "    if len(index) == 0:\n",
    "        return in_arr\n",
    "    else:\n",
    "        return in_arr1"
   ]
  },
  {
   "cell_type": "code",
   "execution_count": 7,
   "metadata": {
    "collapsed": true
   },
   "outputs": [],
   "source": [
    "def empty_check(in_arr):\n",
    "    \n",
    "    \"\"\"\n",
    "    This function checks for the presence of any empty string in the following fields and delete those invalid data points\n",
    "    1. other_id is not empty\n",
    "    2. Committee id is empty\n",
    "    3. Amount is empty\n",
    "    \n",
    "    Index corresponding to the data points satisfying above conditions are stored in an array.\n",
    "    Data points corresponding to the indexes are removed\n",
    "    \"\"\"\n",
    "    \n",
    "    index = []\n",
    "    for i in range(len(in_arr)):\n",
    "        if in_arr[i][5] != '' or in_arr[i][0] == '' or in_arr[i][4] == '':\n",
    "            index.append(i)\n",
    "            \n",
    "    \n",
    "    in_arr1 = np.delete(in_arr, index, axis=0)\n",
    "    \n",
    "    if len(index) == 0:\n",
    "        return in_arr\n",
    "    else:\n",
    "        return in_arr1"
   ]
  },
  {
   "cell_type": "code",
   "execution_count": 8,
   "metadata": {
    "collapsed": true
   },
   "outputs": [],
   "source": [
    "def date_check(in_arr, start_date, end_date):\n",
    "    \n",
    "    \"\"\"\n",
    "    Below is the logic for date check\n",
    "    - Check if the date field is empty, if yes then index corresponding to the data point is stored\n",
    "    - If date has value, it is checked for valid format using datetime python module. If it is not valid, its corresponding \n",
    "      index value is stored.\n",
    "    - If date has valid format it is checked whether it is in the specified year range which is obtained as 'input'. \n",
    "      If not in range, its index is stored in a list.\n",
    "    - Data points corresponding to the indexes are removed\n",
    "    \"\"\"\n",
    "    \n",
    "    index = []\n",
    "    for i in range(len(in_arr)):\n",
    "        \n",
    "        if in_arr[i][3] == '':\n",
    "           index.append(i)\n",
    "           continue\n",
    "        else:\n",
    "        \n",
    "            year_val = int(in_arr[i][3][4:])\n",
    "            date_val = int(in_arr[i][3][2:4])\n",
    "            month_val = int(in_arr[i][3][0:2])\n",
    "    \n",
    "            try:\n",
    "                date = datetime.datetime(year_val, month_val,date_val)\n",
    "            #\n",
    "                if (datetime.datetime(year=start_date, month=1,day=1) < \n",
    "                    datetime.datetime(year=year_val,month=month_val,day=date_val) <= \n",
    "                    datetime.datetime.now()) == False:\n",
    "                \n",
    "                    index.append(i)\n",
    "                \n",
    "            except ValueError:\n",
    "                index.append(i)\n",
    "      \n",
    "    \n",
    "    in_arr1 = np.delete(in_arr, index, axis=0)\n",
    "    \n",
    "    if len(index) == 0:\n",
    "        return in_arr\n",
    "    else:\n",
    "        return in_arr1\n",
    "            "
   ]
  },
  {
   "cell_type": "code",
   "execution_count": 9,
   "metadata": {
    "collapsed": true
   },
   "outputs": [],
   "source": [
    "def name_check(in_arr):\n",
    "    \"\"\"\n",
    "    Below function checks for proper name format. Any character other than a-Z/A-Z/' '/, are considered to be improper.\n",
    "    Indexes of the data point holding proper name is stored and these data points are removed. \n",
    "    \"\"\"\n",
    "    index = []\n",
    "    for i in range(len(in_arr)):\n",
    "        \n",
    "        if in_arr[i][1] != '':\n",
    "            if re.match(\"^[a-zA-Z, ]*$\",in_arr[i][1]):\n",
    "                #print('valid')\n",
    "                continue\n",
    "            else:\n",
    "                #print('invalid')\n",
    "                index.append(i)\n",
    "        else:\n",
    "            #print('invalid')\n",
    "            index.append(i)\n",
    "            \n",
    "    \n",
    "    in_arr1 = np.delete(in_arr, index,axis=0)\n",
    "    \n",
    "    if len(index) == 0:\n",
    "        return in_arr\n",
    "    else:\n",
    "        return in_arr1"
   ]
  },
  {
   "cell_type": "code",
   "execution_count": 10,
   "metadata": {},
   "outputs": [
    {
     "name": "stdout",
     "output_type": "stream",
     "text": [
      "2017\n",
      "2018\n"
     ]
    }
   ],
   "source": [
    "inp = zip_code(inp_ar)\n",
    "#\n",
    "inp1 = empty_check(inp)\n",
    "#Give input for the start and stop date \n",
    "s_date = int(input())\n",
    "e_date = int(input())\n",
    "#\n",
    "inp2 = date_check(inp1, s_date, e_date)\n",
    "#\n",
    "inp3 =  name_check(inp2)"
   ]
  },
  {
   "cell_type": "code",
   "execution_count": 11,
   "metadata": {},
   "outputs": [
    {
     "data": {
      "text/plain": [
       "array([['C00177436', 'DEEHAN, WILLIAM N', '30004', '01312017', '384', ''],\n",
       "       ['C00384818', 'ABBOTT, JOSEPH', '02895', '01122017', '250', ''],\n",
       "       ['C00384516', 'SABOURIN, JAMES', '02895', '01312017', '230', ''],\n",
       "       ['C00177436', 'JEROME, CHRISTOPHER', '30750', '10312017', '384', ''],\n",
       "       ['C00384516', 'ABBOTT, JOSEPH', '02895', '01122018', '333', ''],\n",
       "       ['C00384516', 'SABOURIN, JAMES', '02895', '01312018', '384', '']], dtype=object)"
      ]
     },
     "execution_count": 11,
     "metadata": {},
     "output_type": "execute_result"
    }
   ],
   "source": [
    "inp3"
   ]
  },
  {
   "cell_type": "markdown",
   "metadata": {},
   "source": [
    "# Creating index column"
   ]
  },
  {
   "cell_type": "markdown",
   "metadata": {},
   "source": [
    "Below are the functions performed \n",
    "- create index column is created by combining name and zip code\n",
    "- Sort data points based on index\n",
    "- Remove unique data points which will give \"repeated donors\" \n",
    "- Another indicator is created combining committee id and zip code for final output purpose."
   ]
  },
  {
   "cell_type": "code",
   "execution_count": 19,
   "metadata": {
    "collapsed": true
   },
   "outputs": [],
   "source": [
    "inp_df = pd.DataFrame(inp3)\n",
    "inp_df.rename(columns={inp_df.columns[0]: 'CMTE', inp_df.columns[1]: 'NAME', inp_df.columns[2]: 'ZIP',  \n",
    "                   inp_df.columns[3]: 'DATE', inp_df.columns[4]: 'AMT', inp_df.columns[5]:'OTHER'},inplace=True)\n",
    "inp_df[\"Ind\"] = inp_df[['NAME', 'ZIP']].apply(lambda x: '_'.join(x), axis=1)"
   ]
  },
  {
   "cell_type": "code",
   "execution_count": 20,
   "metadata": {},
   "outputs": [
    {
     "data": {
      "text/html": [
       "<div>\n",
       "<style>\n",
       "    .dataframe thead tr:only-child th {\n",
       "        text-align: right;\n",
       "    }\n",
       "\n",
       "    .dataframe thead th {\n",
       "        text-align: left;\n",
       "    }\n",
       "\n",
       "    .dataframe tbody tr th {\n",
       "        vertical-align: top;\n",
       "    }\n",
       "</style>\n",
       "<table border=\"1\" class=\"dataframe\">\n",
       "  <thead>\n",
       "    <tr style=\"text-align: right;\">\n",
       "      <th></th>\n",
       "      <th>CMTE</th>\n",
       "      <th>NAME</th>\n",
       "      <th>ZIP</th>\n",
       "      <th>DATE</th>\n",
       "      <th>AMT</th>\n",
       "      <th>OTHER</th>\n",
       "      <th>Ind</th>\n",
       "    </tr>\n",
       "  </thead>\n",
       "  <tbody>\n",
       "    <tr>\n",
       "      <th>0</th>\n",
       "      <td>C00177436</td>\n",
       "      <td>DEEHAN, WILLIAM N</td>\n",
       "      <td>30004</td>\n",
       "      <td>01312017</td>\n",
       "      <td>384</td>\n",
       "      <td></td>\n",
       "      <td>DEEHAN, WILLIAM N_30004</td>\n",
       "    </tr>\n",
       "    <tr>\n",
       "      <th>1</th>\n",
       "      <td>C00384818</td>\n",
       "      <td>ABBOTT, JOSEPH</td>\n",
       "      <td>02895</td>\n",
       "      <td>01122017</td>\n",
       "      <td>250</td>\n",
       "      <td></td>\n",
       "      <td>ABBOTT, JOSEPH_02895</td>\n",
       "    </tr>\n",
       "    <tr>\n",
       "      <th>2</th>\n",
       "      <td>C00384516</td>\n",
       "      <td>SABOURIN, JAMES</td>\n",
       "      <td>02895</td>\n",
       "      <td>01312017</td>\n",
       "      <td>230</td>\n",
       "      <td></td>\n",
       "      <td>SABOURIN, JAMES_02895</td>\n",
       "    </tr>\n",
       "    <tr>\n",
       "      <th>3</th>\n",
       "      <td>C00177436</td>\n",
       "      <td>JEROME, CHRISTOPHER</td>\n",
       "      <td>30750</td>\n",
       "      <td>10312017</td>\n",
       "      <td>384</td>\n",
       "      <td></td>\n",
       "      <td>JEROME, CHRISTOPHER_30750</td>\n",
       "    </tr>\n",
       "    <tr>\n",
       "      <th>4</th>\n",
       "      <td>C00384516</td>\n",
       "      <td>ABBOTT, JOSEPH</td>\n",
       "      <td>02895</td>\n",
       "      <td>01122018</td>\n",
       "      <td>333</td>\n",
       "      <td></td>\n",
       "      <td>ABBOTT, JOSEPH_02895</td>\n",
       "    </tr>\n",
       "    <tr>\n",
       "      <th>5</th>\n",
       "      <td>C00384516</td>\n",
       "      <td>SABOURIN, JAMES</td>\n",
       "      <td>02895</td>\n",
       "      <td>01312018</td>\n",
       "      <td>384</td>\n",
       "      <td></td>\n",
       "      <td>SABOURIN, JAMES_02895</td>\n",
       "    </tr>\n",
       "  </tbody>\n",
       "</table>\n",
       "</div>"
      ],
      "text/plain": [
       "        CMTE                 NAME    ZIP      DATE  AMT OTHER  \\\n",
       "0  C00177436    DEEHAN, WILLIAM N  30004  01312017  384         \n",
       "1  C00384818       ABBOTT, JOSEPH  02895  01122017  250         \n",
       "2  C00384516      SABOURIN, JAMES  02895  01312017  230         \n",
       "3  C00177436  JEROME, CHRISTOPHER  30750  10312017  384         \n",
       "4  C00384516       ABBOTT, JOSEPH  02895  01122018  333         \n",
       "5  C00384516      SABOURIN, JAMES  02895  01312018  384         \n",
       "\n",
       "                         Ind  \n",
       "0    DEEHAN, WILLIAM N_30004  \n",
       "1       ABBOTT, JOSEPH_02895  \n",
       "2      SABOURIN, JAMES_02895  \n",
       "3  JEROME, CHRISTOPHER_30750  \n",
       "4       ABBOTT, JOSEPH_02895  \n",
       "5      SABOURIN, JAMES_02895  "
      ]
     },
     "execution_count": 20,
     "metadata": {},
     "output_type": "execute_result"
    }
   ],
   "source": [
    "inp_df"
   ]
  },
  {
   "cell_type": "code",
   "execution_count": 21,
   "metadata": {},
   "outputs": [
    {
     "data": {
      "text/html": [
       "<div>\n",
       "<style>\n",
       "    .dataframe thead tr:only-child th {\n",
       "        text-align: right;\n",
       "    }\n",
       "\n",
       "    .dataframe thead th {\n",
       "        text-align: left;\n",
       "    }\n",
       "\n",
       "    .dataframe tbody tr th {\n",
       "        vertical-align: top;\n",
       "    }\n",
       "</style>\n",
       "<table border=\"1\" class=\"dataframe\">\n",
       "  <thead>\n",
       "    <tr style=\"text-align: right;\">\n",
       "      <th></th>\n",
       "      <th>CMTE</th>\n",
       "      <th>NAME</th>\n",
       "      <th>ZIP</th>\n",
       "      <th>DATE</th>\n",
       "      <th>AMT</th>\n",
       "      <th>OTHER</th>\n",
       "      <th>Ind</th>\n",
       "    </tr>\n",
       "  </thead>\n",
       "  <tbody>\n",
       "    <tr>\n",
       "      <th>1</th>\n",
       "      <td>C00384818</td>\n",
       "      <td>ABBOTT, JOSEPH</td>\n",
       "      <td>02895</td>\n",
       "      <td>01122017</td>\n",
       "      <td>250</td>\n",
       "      <td></td>\n",
       "      <td>ABBOTT, JOSEPH_02895</td>\n",
       "    </tr>\n",
       "    <tr>\n",
       "      <th>4</th>\n",
       "      <td>C00384516</td>\n",
       "      <td>ABBOTT, JOSEPH</td>\n",
       "      <td>02895</td>\n",
       "      <td>01122018</td>\n",
       "      <td>333</td>\n",
       "      <td></td>\n",
       "      <td>ABBOTT, JOSEPH_02895</td>\n",
       "    </tr>\n",
       "    <tr>\n",
       "      <th>0</th>\n",
       "      <td>C00177436</td>\n",
       "      <td>DEEHAN, WILLIAM N</td>\n",
       "      <td>30004</td>\n",
       "      <td>01312017</td>\n",
       "      <td>384</td>\n",
       "      <td></td>\n",
       "      <td>DEEHAN, WILLIAM N_30004</td>\n",
       "    </tr>\n",
       "    <tr>\n",
       "      <th>3</th>\n",
       "      <td>C00177436</td>\n",
       "      <td>JEROME, CHRISTOPHER</td>\n",
       "      <td>30750</td>\n",
       "      <td>10312017</td>\n",
       "      <td>384</td>\n",
       "      <td></td>\n",
       "      <td>JEROME, CHRISTOPHER_30750</td>\n",
       "    </tr>\n",
       "    <tr>\n",
       "      <th>2</th>\n",
       "      <td>C00384516</td>\n",
       "      <td>SABOURIN, JAMES</td>\n",
       "      <td>02895</td>\n",
       "      <td>01312017</td>\n",
       "      <td>230</td>\n",
       "      <td></td>\n",
       "      <td>SABOURIN, JAMES_02895</td>\n",
       "    </tr>\n",
       "  </tbody>\n",
       "</table>\n",
       "</div>"
      ],
      "text/plain": [
       "        CMTE                 NAME    ZIP      DATE  AMT OTHER  \\\n",
       "1  C00384818       ABBOTT, JOSEPH  02895  01122017  250         \n",
       "4  C00384516       ABBOTT, JOSEPH  02895  01122018  333         \n",
       "0  C00177436    DEEHAN, WILLIAM N  30004  01312017  384         \n",
       "3  C00177436  JEROME, CHRISTOPHER  30750  10312017  384         \n",
       "2  C00384516      SABOURIN, JAMES  02895  01312017  230         \n",
       "\n",
       "                         Ind  \n",
       "1       ABBOTT, JOSEPH_02895  \n",
       "4       ABBOTT, JOSEPH_02895  \n",
       "0    DEEHAN, WILLIAM N_30004  \n",
       "3  JEROME, CHRISTOPHER_30750  \n",
       "2      SABOURIN, JAMES_02895  "
      ]
     },
     "execution_count": 21,
     "metadata": {},
     "output_type": "execute_result"
    }
   ],
   "source": [
    "inp_df = inp_df.sort_values('Ind')\n",
    "inp_df.head()"
   ]
  },
  {
   "cell_type": "code",
   "execution_count": 22,
   "metadata": {},
   "outputs": [
    {
     "data": {
      "text/html": [
       "<div>\n",
       "<style>\n",
       "    .dataframe thead tr:only-child th {\n",
       "        text-align: right;\n",
       "    }\n",
       "\n",
       "    .dataframe thead th {\n",
       "        text-align: left;\n",
       "    }\n",
       "\n",
       "    .dataframe tbody tr th {\n",
       "        vertical-align: top;\n",
       "    }\n",
       "</style>\n",
       "<table border=\"1\" class=\"dataframe\">\n",
       "  <thead>\n",
       "    <tr style=\"text-align: right;\">\n",
       "      <th></th>\n",
       "      <th>CMTE</th>\n",
       "      <th>NAME</th>\n",
       "      <th>ZIP</th>\n",
       "      <th>DATE</th>\n",
       "      <th>AMT</th>\n",
       "      <th>OTHER</th>\n",
       "      <th>Ind</th>\n",
       "    </tr>\n",
       "  </thead>\n",
       "  <tbody>\n",
       "    <tr>\n",
       "      <th>1</th>\n",
       "      <td>C00384818</td>\n",
       "      <td>ABBOTT, JOSEPH</td>\n",
       "      <td>02895</td>\n",
       "      <td>01122017</td>\n",
       "      <td>250</td>\n",
       "      <td></td>\n",
       "      <td>ABBOTT, JOSEPH_02895</td>\n",
       "    </tr>\n",
       "    <tr>\n",
       "      <th>4</th>\n",
       "      <td>C00384516</td>\n",
       "      <td>ABBOTT, JOSEPH</td>\n",
       "      <td>02895</td>\n",
       "      <td>01122018</td>\n",
       "      <td>333</td>\n",
       "      <td></td>\n",
       "      <td>ABBOTT, JOSEPH_02895</td>\n",
       "    </tr>\n",
       "    <tr>\n",
       "      <th>2</th>\n",
       "      <td>C00384516</td>\n",
       "      <td>SABOURIN, JAMES</td>\n",
       "      <td>02895</td>\n",
       "      <td>01312017</td>\n",
       "      <td>230</td>\n",
       "      <td></td>\n",
       "      <td>SABOURIN, JAMES_02895</td>\n",
       "    </tr>\n",
       "    <tr>\n",
       "      <th>5</th>\n",
       "      <td>C00384516</td>\n",
       "      <td>SABOURIN, JAMES</td>\n",
       "      <td>02895</td>\n",
       "      <td>01312018</td>\n",
       "      <td>384</td>\n",
       "      <td></td>\n",
       "      <td>SABOURIN, JAMES_02895</td>\n",
       "    </tr>\n",
       "  </tbody>\n",
       "</table>\n",
       "</div>"
      ],
      "text/plain": [
       "        CMTE             NAME    ZIP      DATE  AMT OTHER  \\\n",
       "1  C00384818   ABBOTT, JOSEPH  02895  01122017  250         \n",
       "4  C00384516   ABBOTT, JOSEPH  02895  01122018  333         \n",
       "2  C00384516  SABOURIN, JAMES  02895  01312017  230         \n",
       "5  C00384516  SABOURIN, JAMES  02895  01312018  384         \n",
       "\n",
       "                     Ind  \n",
       "1   ABBOTT, JOSEPH_02895  \n",
       "4   ABBOTT, JOSEPH_02895  \n",
       "2  SABOURIN, JAMES_02895  \n",
       "5  SABOURIN, JAMES_02895  "
      ]
     },
     "execution_count": 22,
     "metadata": {},
     "output_type": "execute_result"
    }
   ],
   "source": [
    "inp_df1 = inp_df[inp_df['Ind'].duplicated(keep=False)]\n",
    "inp_df1.head()"
   ]
  },
  {
   "cell_type": "code",
   "execution_count": 23,
   "metadata": {},
   "outputs": [
    {
     "name": "stderr",
     "output_type": "stream",
     "text": [
      "C:\\Users\\saish\\Anaconda2\\envs\\tensorflow\\lib\\site-packages\\ipykernel_launcher.py:1: SettingWithCopyWarning: \n",
      "A value is trying to be set on a copy of a slice from a DataFrame.\n",
      "Try using .loc[row_indexer,col_indexer] = value instead\n",
      "\n",
      "See the caveats in the documentation: http://pandas.pydata.org/pandas-docs/stable/indexing.html#indexing-view-versus-copy\n",
      "  \"\"\"Entry point for launching an IPython kernel.\n"
     ]
    },
    {
     "data": {
      "text/html": [
       "<div>\n",
       "<style>\n",
       "    .dataframe thead tr:only-child th {\n",
       "        text-align: right;\n",
       "    }\n",
       "\n",
       "    .dataframe thead th {\n",
       "        text-align: left;\n",
       "    }\n",
       "\n",
       "    .dataframe tbody tr th {\n",
       "        vertical-align: top;\n",
       "    }\n",
       "</style>\n",
       "<table border=\"1\" class=\"dataframe\">\n",
       "  <thead>\n",
       "    <tr style=\"text-align: right;\">\n",
       "      <th></th>\n",
       "      <th>CMTE</th>\n",
       "      <th>NAME</th>\n",
       "      <th>ZIP</th>\n",
       "      <th>DATE</th>\n",
       "      <th>AMT</th>\n",
       "      <th>OTHER</th>\n",
       "      <th>Ind</th>\n",
       "      <th>check</th>\n",
       "    </tr>\n",
       "  </thead>\n",
       "  <tbody>\n",
       "    <tr>\n",
       "      <th>4</th>\n",
       "      <td>C00384516</td>\n",
       "      <td>ABBOTT, JOSEPH</td>\n",
       "      <td>02895</td>\n",
       "      <td>01122018</td>\n",
       "      <td>333</td>\n",
       "      <td></td>\n",
       "      <td>ABBOTT, JOSEPH_02895</td>\n",
       "      <td>C00384516_02895</td>\n",
       "    </tr>\n",
       "    <tr>\n",
       "      <th>2</th>\n",
       "      <td>C00384516</td>\n",
       "      <td>SABOURIN, JAMES</td>\n",
       "      <td>02895</td>\n",
       "      <td>01312017</td>\n",
       "      <td>230</td>\n",
       "      <td></td>\n",
       "      <td>SABOURIN, JAMES_02895</td>\n",
       "      <td>C00384516_02895</td>\n",
       "    </tr>\n",
       "    <tr>\n",
       "      <th>5</th>\n",
       "      <td>C00384516</td>\n",
       "      <td>SABOURIN, JAMES</td>\n",
       "      <td>02895</td>\n",
       "      <td>01312018</td>\n",
       "      <td>384</td>\n",
       "      <td></td>\n",
       "      <td>SABOURIN, JAMES_02895</td>\n",
       "      <td>C00384516_02895</td>\n",
       "    </tr>\n",
       "    <tr>\n",
       "      <th>1</th>\n",
       "      <td>C00384818</td>\n",
       "      <td>ABBOTT, JOSEPH</td>\n",
       "      <td>02895</td>\n",
       "      <td>01122017</td>\n",
       "      <td>250</td>\n",
       "      <td></td>\n",
       "      <td>ABBOTT, JOSEPH_02895</td>\n",
       "      <td>C00384818_02895</td>\n",
       "    </tr>\n",
       "  </tbody>\n",
       "</table>\n",
       "</div>"
      ],
      "text/plain": [
       "        CMTE             NAME    ZIP      DATE  AMT OTHER  \\\n",
       "4  C00384516   ABBOTT, JOSEPH  02895  01122018  333         \n",
       "2  C00384516  SABOURIN, JAMES  02895  01312017  230         \n",
       "5  C00384516  SABOURIN, JAMES  02895  01312018  384         \n",
       "1  C00384818   ABBOTT, JOSEPH  02895  01122017  250         \n",
       "\n",
       "                     Ind            check  \n",
       "4   ABBOTT, JOSEPH_02895  C00384516_02895  \n",
       "2  SABOURIN, JAMES_02895  C00384516_02895  \n",
       "5  SABOURIN, JAMES_02895  C00384516_02895  \n",
       "1   ABBOTT, JOSEPH_02895  C00384818_02895  "
      ]
     },
     "execution_count": 23,
     "metadata": {},
     "output_type": "execute_result"
    }
   ],
   "source": [
    "inp_df1['check'] = inp_df1['CMTE'] + '_' + inp_df1['ZIP']\n",
    "inp_df1 = inp_df1.sort_values('check')\n",
    "inp_df1.head()"
   ]
  },
  {
   "cell_type": "markdown",
   "metadata": {},
   "source": [
    "# program logic"
   ]
  },
  {
   "cell_type": "code",
   "execution_count": 25,
   "metadata": {},
   "outputs": [
    {
     "name": "stdout",
     "output_type": "stream",
     "text": [
      "2018\n"
     ]
    }
   ],
   "source": [
    "final_inp = inp_df1.as_matrix()\n",
    "current_year = int(input())"
   ]
  },
  {
   "cell_type": "code",
   "execution_count": 26,
   "metadata": {
    "collapsed": true
   },
   "outputs": [],
   "source": [
    "#This is to get only contributions made by the repeated in the current year\n",
    "index = []\n",
    "for i in range (len(final_inp)):\n",
    "    if final_inp[i][3][4:] != str(current_year):\n",
    "        index.append(i)\n",
    "    \n",
    "final_int = np.delete(final_inp, index, axis=0) "
   ]
  },
  {
   "cell_type": "code",
   "execution_count": 27,
   "metadata": {},
   "outputs": [
    {
     "data": {
      "text/plain": [
       "array([['C00384516', 'ABBOTT, JOSEPH', '02895', '01122018', '333', '',\n",
       "        'ABBOTT, JOSEPH_02895', 'C00384516_02895'],\n",
       "       ['C00384516', 'SABOURIN, JAMES', '02895', '01312018', '384', '',\n",
       "        'SABOURIN, JAMES_02895', 'C00384516_02895']], dtype=object)"
      ]
     },
     "execution_count": 27,
     "metadata": {},
     "output_type": "execute_result"
    }
   ],
   "source": [
    "final_int"
   ]
  },
  {
   "cell_type": "code",
   "execution_count": 28,
   "metadata": {
    "collapsed": true
   },
   "outputs": [],
   "source": [
    "#percentile file read\n",
    "with open(\"C://Users//saish//Documents//insight//percentile.txt\",\"r\") as data:\n",
    "    for i in data:\n",
    "        percentile = int(i)/100"
   ]
  },
  {
   "cell_type": "code",
   "execution_count": 29,
   "metadata": {
    "collapsed": true
   },
   "outputs": [],
   "source": [
    "\"\"\"\n",
    "Below is the process followed to obtain final output\n",
    "- two arrays are created one to hold output(output_fl) and other temporary array(temp_arr) to hold value\n",
    "- amt_lst : will hold amount of all contributor for a particular committee which is used to fill total amount field of output\n",
    "- if committe id, zip code is same then percentile, total amount are calculated for output. The loop will run till committe id\n",
    "  and zip code change. Since, date is filtered before it is not taken into consideration\n",
    "\"\"\"\n",
    "output_fl = np.empty((0,6), dtype=object)\n",
    "temp_arr = np.empty((1,6), dtype=object)\n",
    "amt_lst = []"
   ]
  },
  {
   "cell_type": "code",
   "execution_count": 30,
   "metadata": {
    "collapsed": true
   },
   "outputs": [],
   "source": [
    "cnt = 1\n",
    "for i in final_int:\n",
    "    if cnt == 1:\n",
    "        temp = i[7]\n",
    "        temp_arr[0][0] = i[0]\n",
    "        temp_arr[0][1] = i[2]\n",
    "        temp_arr[0][2] = str(current_year)\n",
    "        temp_arr[0][3] = i[4]\n",
    "        temp_arr[0][4] = i[4]\n",
    "        temp_arr[0][5] = str(cnt)\n",
    "        #\n",
    "        output_fl = temp_arr\n",
    "        amt_lst.append(i[4])\n",
    "        #print('list',amt_lst)\n",
    "        #\n",
    "        temp_arr = np.empty((1,6), dtype=object)\n",
    "        cnt = cnt + 1\n",
    "        #print('1',output_fl)\n",
    "    else:\n",
    "        if(temp == i[7]):\n",
    "            #\n",
    "            amt_lst.append(i[4])\n",
    "            #\n",
    "            temp_arr[0][0] = i[0]\n",
    "            temp_arr[0][1] = i[2]\n",
    "            temp_arr[0][2] = str(current_year)\n",
    "            #\n",
    "            \n",
    "            perc = round(cnt*(percentile)) - 1\n",
    "            temp_arr[0][3] = amt_lst[perc]\n",
    "            #\n",
    "            temp_arr[0][4] = str(sum(int(i) for i in amt_lst))\n",
    "            temp_arr[0][5] = str(cnt)\n",
    "            #\n",
    "            output_fl = np.append(output_fl, temp_arr, axis=0)\n",
    "            temp_arr = np.empty((1,6), dtype=object)\n",
    "            cnt = cnt + 1\n",
    "            #\n",
    "        else:\n",
    "            cnt = 1\n",
    "            temp = i[7]\n",
    "            #\n",
    "            amt_lst = []\n",
    "            amt_lst.append(i[4])\n",
    "            #\n",
    "            temp_arr[0][0] = i[0]\n",
    "            temp_arr[0][1] = i[2]\n",
    "            temp_arr[0][2] = str(current_year)\n",
    "            temp_arr[0][3] = i[4]\n",
    "            temp_arr[0][4] = i[4]\n",
    "            temp_arr[0][5] = str(cnt)\n",
    "            #\n",
    "            output_fl = np.append(output_fl, temp_arr, axis=0)\n",
    "            #\n",
    "            temp_arr = np.empty((1,6), dtype=object)\n",
    "            cnt = cnt + 1\n",
    "            "
   ]
  },
  {
   "cell_type": "code",
   "execution_count": 31,
   "metadata": {},
   "outputs": [
    {
     "data": {
      "text/plain": [
       "array([['C00384516', '02895', '2018', '333', '333', '1'],\n",
       "       ['C00384516', '02895', '2018', '333', '717', '2']], dtype=object)"
      ]
     },
     "execution_count": 31,
     "metadata": {},
     "output_type": "execute_result"
    }
   ],
   "source": [
    "output_fl"
   ]
  },
  {
   "cell_type": "code",
   "execution_count": 32,
   "metadata": {
    "collapsed": true
   },
   "outputs": [],
   "source": [
    "with open('C://Users//saish//Documents//insight//repeat_donors.txt','w+') as result:\n",
    "    for i in range (len(output_fl)):\n",
    "        result.write(output_fl[i][0] + '|' +\n",
    "                     output_fl[i][1] + '|' + \n",
    "                     output_fl[i][2] + '|' +\n",
    "                     output_fl[i][3] + '|' +\n",
    "                     output_fl[i][4] + '|' +\n",
    "                     output_fl[i][5] +  '\\n')                       "
   ]
  },
  {
   "cell_type": "code",
   "execution_count": null,
   "metadata": {
    "collapsed": true
   },
   "outputs": [],
   "source": []
  }
 ],
 "metadata": {
  "kernelspec": {
   "display_name": "Python 3",
   "language": "python",
   "name": "python3"
  },
  "language_info": {
   "codemirror_mode": {
    "name": "ipython",
    "version": 3
   },
   "file_extension": ".py",
   "mimetype": "text/x-python",
   "name": "python",
   "nbconvert_exporter": "python",
   "pygments_lexer": "ipython3",
   "version": "3.5.4"
  }
 },
 "nbformat": 4,
 "nbformat_minor": 2
}
